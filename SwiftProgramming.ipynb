{
  "nbformat": 4,
  "nbformat_minor": 0,
  "metadata": {
    "colab": {
      "name": "Untitled3.ipynb",
      "provenance": [],
      "authorship_tag": "ABX9TyPamzdZAulxLJPr4bkryQYi",
      "include_colab_link": true
    },
    "kernelspec": {
      "name": "python3",
      "display_name": "Python 3"
    },
    "language_info": {
      "name": "python"
    }
  },
  "cells": [
    {
      "cell_type": "markdown",
      "metadata": {
        "id": "view-in-github",
        "colab_type": "text"
      },
      "source": [
        "<a href=\"https://colab.research.google.com/github/rohitpalsingh/Introduction-to-Swift-Programming/blob/main/SwiftProgramming.ipynb\" target=\"_parent\"><img src=\"https://colab.research.google.com/assets/colab-badge.svg\" alt=\"Open In Colab\"/></a>"
      ]
    },
    {
      "cell_type": "code",
      "execution_count": 2,
      "metadata": {
        "colab": {
          "base_uri": "https://localhost:8080/"
        },
        "id": "GxXaw1cF8ZC6",
        "outputId": "5790d2b2-3214-4abf-9560-12c1d364c4fd"
      },
      "outputs": [
        {
          "output_type": "stream",
          "name": "stdout",
          "text": [
            "  % Total    % Received % Xferd  Average Speed   Time    Time     Time  Current\n",
            "                                 Dload  Upload   Total   Spent    Left  Speed\n",
            "100  6439  100  6439    0     0  19453      0 --:--:-- --:--:-- --:--:-- 19453\n",
            "Downloading Swift 5.6.2\n",
            "  % Total    % Received % Xferd  Average Speed   Time    Time     Time  Current\n",
            "                                 Dload  Upload   Total   Spent    Left  Speed\n",
            "100  489M  100  489M    0     0  24.3M      0  0:00:20  0:00:20 --:--:-- 27.1M\n",
            "Cloning into 'swift-colab'...\n",
            "remote: Enumerating objects: 119, done.\u001b[K\n",
            "remote: Counting objects: 100% (119/119), done.\u001b[K\n",
            "remote: Compressing objects: 100% (111/111), done.\u001b[K\n",
            "remote: Total 119 (delta 7), reused 96 (delta 7), pack-reused 0\u001b[K\n",
            "Receiving objects: 100% (119/119), 291.03 KiB | 1.70 MiB/s, done.\n",
            "Resolving deltas: 100% (7/7), done.\n",
            "Compiling Swift LLDB bindings\n",
            "Compiling JupyterKernel\n",
            "Adding symbolic link to JupyterKernel binary\n",
            "Registering Swift Jupyter kernel\n",
            "=== ------------------------------------------------------------------------ ===\n",
            "=== Swift-Colab overwrote the Python kernel with Swift, but Colab is still   ===\n",
            "=== in Python mode. To enter Swift mode, go to Runtime > Restart runtime.    ===\n",
            "=== ------------------------------------------------------------------------ ===\n"
          ]
        }
      ],
      "source": [
        "!curl \"https://raw.githubusercontent.com/philipturner/swift-colab/release/latest/install_swift.sh\" --output \"install_swift.sh\"\n",
        "!bash \"install_swift.sh\" \"5.6.2\" #// Replace 5.6.2 with newest Swift version.\n",
        "#// After this cell finishes, go to Runtime > Restart runtime."
      ]
    }
  ]
}