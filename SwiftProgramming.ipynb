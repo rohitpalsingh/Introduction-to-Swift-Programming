{
  "nbformat": 4,
  "nbformat_minor": 0,
  "metadata": {
    "colab": {
      "name": "Untitled3.ipynb",
      "provenance": [],
      "collapsed_sections": [],
      "authorship_tag": "ABX9TyMi7of45tF0gS+U3eYG+PEz",
      "include_colab_link": true
    },
    "kernelspec": {
      "name": "python3",
      "display_name": "Python 3"
    },
    "language_info": {
      "name": "python"
    }
  },
  "cells": [
    {
      "cell_type": "markdown",
      "metadata": {
        "id": "view-in-github",
        "colab_type": "text"
      },
      "source": [
        "<a href=\"https://colab.research.google.com/github/rohitpalsingh/Introduction-to-Swift-Programming/blob/main/SwiftProgramming.ipynb\" target=\"_parent\"><img src=\"https://colab.research.google.com/assets/colab-badge.svg\" alt=\"Open In Colab\"/></a>"
      ]
    },
    {
      "cell_type": "code",
      "execution_count": 9,
      "metadata": {
        "colab": {
          "base_uri": "https://localhost:8080/"
        },
        "id": "GxXaw1cF8ZC6",
        "outputId": "dcd7b985-5b91-4a1a-8e9b-189ab1603bd8"
      },
      "outputs": [
        {
          "output_type": "stream",
          "name": "stdout",
          "text": [
            "  % Total    % Received % Xferd  Average Speed   Time    Time     Time  Current\n",
            "                                 Dload  Upload   Total   Spent    Left  Speed\n",
            "\r  0     0    0     0    0     0      0      0 --:--:-- --:--:-- --:--:--     0\r100  6439  100  6439    0     0   184k      0 --:--:-- --:--:-- --:--:--  184k\n",
            "Using cached Swift 5.6.2\n",
            "Using cached Swift-Colab\n",
            "Using cached Swift LLDB bindings\n",
            "Using cached JupyterKernel library\n",
            "=== ------------------------------------------------------------------------ ===\n",
            "=== Swift-Colab overwrote the Python kernel with Swift, but Colab is still   ===\n",
            "=== in Python mode. To enter Swift mode, go to Runtime > Restart runtime.    ===\n",
            "=== ------------------------------------------------------------------------ ===\n"
          ]
        }
      ],
      "source": [
        "!curl \"https://raw.githubusercontent.com/philipturner/swift-colab/release/latest/install_swift.sh\" --output \"install_swift.sh\"\n",
        "!bash \"install_swift.sh\" \"5.6.2\" #// Replace 5.6.2 with newest Swift version.\n",
        "#// After this cell finishes, go to Runtime > Restart runtime."
      ]
    },
    {
      "cell_type": "code",
      "source": [
        "var abc = \"String\""
      ],
      "metadata": {
        "colab": {
          "base_uri": "https://localhost:8080/"
        },
        "id": "gaTEre7X9Epk",
        "outputId": "fe815e1f-fb69-4b4b-d639-ce6a00636fcb"
      },
      "execution_count": 1,
      "outputs": [
        {
          "output_type": "stream",
          "name": "stdout",
          "text": [
            ""
          ]
        }
      ]
    },
    {
      "cell_type": "code",
      "source": [
        "\n",
        "print(abc)\n",
        "\n",
        "\n",
        "\n",
        "var x:Int = 99\n",
        "\n",
        "let t:Int = 10\n",
        "\n",
        "print(x)\n",
        "\n",
        "/* Rohit \n",
        "Pal ISngh\n",
        "*/\n",
        "\n",
        "//ROhit Pal Inhg\n",
        "var xy = \"\\u{661}\\u{95}\"\n",
        "print(xy)\n",
        "\n",
        "\n",
        "if x == 9{\n",
        "    print(\"x===9\")\n",
        "}\n",
        "else if xy == \"s\"{\n",
        "    print(xy)\n",
        "}\n",
        "else{\n",
        "    print(\"none\")\n",
        "}\n",
        "var s = 90\n",
        "switch s {\n",
        "    case 34:\n",
        "            print(\"Here\")\n",
        "    case 234, 41:\n",
        "        print(\"sfsaf\")\n",
        "    case 234:\n",
        "         print(\"sazfca\") \n",
        "    case 5..<12:\n",
        "          print(\"Sdfsc\")\n",
        "    default:\n",
        "     print(\"asFZc\")\n",
        "}\n",
        "var num = 0\n",
        "\n",
        "for xr in 1...45{\n",
        "    print(xr)\n",
        "}\n",
        "for xr in stride(from: 45,to: 1,by:-1){\n",
        "    print(xr)\n",
        "}\n",
        "while num<10{\n",
        "\n",
        "   num = num + 1\n",
        "}\n",
        "print(num)\n",
        "\n",
        "repeat {\n",
        "    num = num+1\n",
        "}while(num<30)\n",
        "\n",
        "print(num)\n",
        "\n",
        "func print123(){\n",
        "    print(\"Hello\")\n",
        "}\n",
        "\n",
        "print123()\n",
        "\n",
        "func add(arg1 par1:Int,arg2 par2:Int)->Int{\n",
        "\n",
        "    return par1+par2\n",
        "}\n",
        "\n",
        "print(add(arg1: 34, arg2 :32))\n",
        "\n",
        "\n",
        "\n"
      ],
      "metadata": {
        "id": "6fnIq9Qr9L5D",
        "colab": {
          "base_uri": "https://localhost:8080/"
        },
        "outputId": "bbd33cd6-6b5b-41bd-97c5-a9c8694b52ba"
      },
      "execution_count": 2,
      "outputs": [
        {
          "output_type": "stream",
          "name": "stdout",
          "text": [
            "String\r\n",
            "99\r\n",
            "١\r\n",
            "none\r\n",
            "asFZc\r\n",
            "1\r\n",
            "2\r\n",
            "3\r\n",
            "4\r\n",
            "5\r\n",
            "6\r\n",
            "7\r\n",
            "8\r\n",
            "9\r\n",
            "10\r\n",
            "11\r\n",
            "12\r\n",
            "13\r\n",
            "14\r\n",
            "15\r\n",
            "16\r\n",
            "17\r\n",
            "18\r\n",
            "19\r\n",
            "20\r\n",
            "21\r\n",
            "22\r\n",
            "23\r\n",
            "24\r\n",
            "25\r\n",
            "26\r\n",
            "27\r\n",
            "28\r\n",
            "29\r\n",
            "30\r\n",
            "31\r\n",
            "32\r\n",
            "33\r\n",
            "34\r\n",
            "35\r\n",
            "36\r\n",
            "37\r\n",
            "38\r\n",
            "39\r\n",
            "40\r\n",
            "41\r\n",
            "42\r\n",
            "43\r\n",
            "44\r\n",
            "45\r\n",
            "45\r\n",
            "44\r\n",
            "43\r\n",
            "42\r\n",
            "41\r\n",
            "40\r\n",
            "39\r\n",
            "38\r\n",
            "37\r\n",
            "36\r\n",
            "35\r\n",
            "34\r\n",
            "33\r\n",
            "32\r\n",
            "31\r\n",
            "30\r\n",
            "29\r\n",
            "28\r\n",
            "27\r\n",
            "26\r\n",
            "25\r\n",
            "24\r\n",
            "23\r\n",
            "22\r\n",
            "21\r\n",
            "20\r\n",
            "19\r\n",
            "18\r\n",
            "17\r\n",
            "16\r\n",
            "15\r\n",
            "14\r\n",
            "13\r\n",
            "12\r\n",
            "11\r\n",
            "10\r\n",
            "9\r\n",
            "8\r\n",
            "7\r\n",
            "6\r\n",
            "5\r\n",
            "4\r\n",
            "3\r\n",
            "2\r\n",
            "10\r\n",
            "30\r\n",
            "Hello\r\n",
            "66\r\n"
          ]
        }
      ]
    }
  ]
}