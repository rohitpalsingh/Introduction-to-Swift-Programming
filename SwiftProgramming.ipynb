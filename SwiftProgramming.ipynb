{
  "cells": [
    {
      "cell_type": "markdown",
      "metadata": {
        "id": "view-in-github",
        "colab_type": "text"
      },
      "source": [
        "<a href=\"https://colab.research.google.com/github/rohitpalsingh/Introduction-to-Swift-Programming/blob/main/SwiftProgramming.ipynb\" target=\"_parent\"><img src=\"https://colab.research.google.com/assets/colab-badge.svg\" alt=\"Open In Colab\"/></a>"
      ]
    },
    {
      "cell_type": "markdown",
      "metadata": {
        "id": "ZGiUS7l5Jlif"
      },
      "source": [
        "<img src=\"https://developer.apple.com/swift/images/swift-og.png\" height=150 width =150 align = \"right\"  /> \n",
        "\n",
        "# **Workshop : Introduction to Swift Programming**\n",
        "# *Objectives*\n",
        "* Introduction to Swift \n",
        "  * Basics of Swift :  a brief backgound.\n",
        "  * Setting up Swift IDE or REPL Environment.\n",
        "* Hands on with Swift\n",
        "   * Variables and Data Types.\n",
        "   * Varibale Scope and Constants\n",
        "   * Data Structures.\n",
        "   * Control Flow.\n",
        "   * Functions.\n",
        "\n",
        "# *Future Topics*\n",
        "\n",
        "Classes, Packages, UI Development, Swift of AI, Code Optimization and Interoperability.\n",
        "   \n",
        "\n",
        "\n",
        "\n",
        "\n",
        "\n"
      ]
    },
    {
      "cell_type": "markdown",
      "metadata": {
        "id": "OyD0mfouKXkh"
      },
      "source": [
        "\n",
        "# **Introduction to Swift**  \n",
        "  * Swift is a general purpose, compiled programming language which was started by Chris Lattner and team in 2010 and further developed by Apple Inc.\n",
        "  *  Swift is used for modern approach to software design patterns like macOS, iOS, watchOS, tvOS, and beyond. \n",
        "  * Swift developer base has recently grown beyond apple products with support for cross platform operability. \n",
        "  * The heart of the Swift language is its LLVM compiler environment which converts the code to intermediate representation known as LLVM-IR. This allows swift to either compiler the IR to stand along binary or perform JIT (Just In Time) compilation. \n",
        "  * Swift playground in Xcode also allows REPL (Read-Eval-Print loop) to evaluate expressions as soon as they are written.\n",
        "\n",
        "Please visit LLVM, JIT, REPL  for more information.\n",
        "\n",
        "\n",
        "# **Swift _vs._ C++/C _vs._ Python**\n",
        "\n",
        " Swift feels like python but runs like C++/C.\n",
        " \n",
        "# **Ways to run Swift**\n",
        "\n",
        "Three ways to run Swift code: \n",
        "  * the first one is through the Swift REPL (on Terminal),\n",
        "  * through the IDE: Xcode , VSCode_, and\n",
        "  * Cloud Platforms: _Colab, Kaggle, CoCalc etc_.\n",
        "\n"
      ]
    },
    {
      "cell_type": "markdown",
      "metadata": {
        "id": "B4xA45dGI1dJ"
      },
      "source": [
        "# Swift Kernel for Google Colab\n",
        "When making a Swift notebook, copy the official template instead. It contains the commands listed below, which download and compile the Jupyter kernel. Run the first code cell and follow the instructions for restarting the runtime."
      ]
    },
    {
      "cell_type": "code",
      "execution_count": null,
      "metadata": {
        "id": "GxXaw1cF8ZC6"
      },
      "outputs": [],
      "source": [
        "!curl \"https://raw.githubusercontent.com/philipturner/swift-colab/release/latest/install_swift.sh\" --output \"install_swift.sh\"\n",
        "!bash \"install_swift.sh\" \"5.6.2\" #// Replace 5.6.2 with newest Swift version.\n",
        "#// After this cell finishes, go to Runtime > Restart runtime."
      ]
    },
    {
      "cell_type": "markdown",
      "source": [
        ""
      ],
      "metadata": {
        "id": "gTDzanglAFYh"
      }
    },
    {
      "cell_type": "markdown",
      "source": [
        "# lets compare\n",
        "* Swift code is below.\n",
        "* Here is [Python code link](https://colab.research.google.com/drive/1ocZ0znZsiEeHjlHfYjQuxuIJVcbilF_f#scrollTo=-3uIK_-TwKLF).\n",
        "\n",
        "### Thats a significant speed for AI and ML applications where training time is large generally 2-3 days for large practical data. Consider Swift here and a speed up of 300 times. Now your time for 2-3 days come down to 576/864 seconds or ~9.6/14.4 minutes"
      ],
      "metadata": {
        "id": "pcg9mqPQ_-vX"
      }
    },
    {
      "cell_type": "code",
      "source": [
        "func fib(arg n:Int)->Int{\n",
        "  if(n<2){\n",
        "    return 1\n",
        "  }\n",
        "  else{\n",
        "    return fib(arg:n-1)+fib(arg:n-2)\n",
        "  }\n",
        "}"
      ],
      "metadata": {
        "id": "JyHmWDVA_91b"
      },
      "execution_count": null,
      "outputs": []
    },
    {
      "cell_type": "code",
      "source": [
        "import Foundation\n",
        "let formatter = DateFormatter()\n",
        "formatter.dateFormat = \"yyyy/MM/dd HH:mm\"\n",
        "let date1 = Foundation.Date()\n",
        "print(fib(arg:40),\"\\n\")\n",
        "let date2 = Foundation.Date()\n",
        "let x :Double = date2.timeIntervalSinceReferenceDate\n",
        "let y :Double = date1.timeIntervalSinceReferenceDate\n",
        "print(x-y, \" Secs\")"
      ],
      "metadata": {
        "id": "y1IA8WkWBH8n"
      },
      "execution_count": null,
      "outputs": []
    },
    {
      "cell_type": "markdown",
      "metadata": {
        "id": "z31uhLtQLvrR"
      },
      "source": [
        "# Constants and Variables\n",
        " *  Declaring Constants and Variables.\n",
        " *  Variable naming convention.\n",
        " *  Use var keyword to define Vairibale."
      ]
    },
    {
      "cell_type": "code",
      "execution_count": null,
      "metadata": {
        "id": "gaTEre7X9Epk"
      },
      "outputs": [],
      "source": [
        "var abc = \"String\"\n"
      ]
    },
    {
      "cell_type": "markdown",
      "metadata": {
        "id": "aAlZ7zcFNAAK"
      },
      "source": [
        " # Data Type Inferencing\n",
        "   * Data Type can not be changed later.\n",
        "   * But Value can be changed."
      ]
    },
    {
      "cell_type": "code",
      "execution_count": null,
      "metadata": {
        "id": "ZRv70aUgNTCJ"
      },
      "outputs": [],
      "source": [
        "abc = 34"
      ]
    },
    {
      "cell_type": "code",
      "execution_count": null,
      "metadata": {
        "id": "xxr11VV-M-lH"
      },
      "outputs": [],
      "source": [
        "abc = \"sdfzx\""
      ]
    },
    {
      "cell_type": "code",
      "execution_count": null,
      "metadata": {
        "id": "w8mLcUPVMZ-T"
      },
      "outputs": [],
      "source": [
        "var str = \"This is string\"\n",
        "var appleCount = 24"
      ]
    },
    {
      "cell_type": "markdown",
      "metadata": {
        "id": "5tgfAXLDMqM1"
      },
      "source": [
        "## Constants are Immutable\n",
        " * Use Let keyword to define constants.\n",
        " * Once assigned their values can not be changed"
      ]
    },
    {
      "cell_type": "code",
      "execution_count": null,
      "metadata": {
        "id": "-_twgF9FMl0G"
      },
      "outputs": [],
      "source": [
        "let x = 23"
      ]
    },
    {
      "cell_type": "markdown",
      "metadata": {
        "id": "vHev5iTYNoZg"
      },
      "source": [
        "# Statically Typed Data Type\n",
        "\n",
        " * To force type use static declarations\n",
        " * Syntax _var name:datatype = value_"
      ]
    },
    {
      "cell_type": "code",
      "execution_count": null,
      "metadata": {
        "id": "ejwoVId9N6Ey"
      },
      "outputs": [],
      "source": [
        "var x:Int = 99\n",
        "let t:String = \"10\""
      ]
    },
    {
      "cell_type": "markdown",
      "metadata": {
        "id": "rdBmCi3NOCSh"
      },
      "source": [
        "# Type Conversion\n",
        "\n",
        "* Wrapper Classes to conver from one Data type to another (Just look them as function for now)\n",
        "* Information is lost if converting from high precesion to low precision numbers\n",
        "\n"
      ]
    },
    {
      "cell_type": "code",
      "execution_count": null,
      "metadata": {
        "id": "jF7ozONLOBa5"
      },
      "outputs": [],
      "source": [
        "var x = 3.423\n",
        "print(type(of:x))\n",
        "var y = Int(x)\n",
        "print(type(of:y))"
      ]
    },
    {
      "cell_type": "markdown",
      "source": [
        "# Operators in Swift\n",
        " * Arithmatic Operators\n",
        "    * +,-,/,*,^, %\n",
        " * Boolean Operators\n",
        "    * Boolean Operators &&,|| etc\n",
        "      * Logical NOT (!a)\n",
        "      * Logical AND (a && b)\n",
        "      * Logical OR (a || b)\n",
        "    * Bitwise operators "
      ],
      "metadata": {
        "id": "A2NwnM-umbG8"
      }
    },
    {
      "cell_type": "code",
      "source": [
        "print(3+4)\n",
        "print(3*4)\n",
        "print(3/4)\n",
        "print(3^4)\n",
        "print(3-4)\n",
        "print(3%10)"
      ],
      "metadata": {
        "id": "JdrVrvHLm1aC"
      },
      "execution_count": null,
      "outputs": []
    },
    {
      "cell_type": "code",
      "source": [
        "if (3>5 && 4 == 8){\n",
        " print(\"and\")\n",
        "}\n",
        "else{\n",
        "    print(\"not and\")\n",
        "}"
      ],
      "metadata": {
        "id": "-U-3M7Sbntvd"
      },
      "execution_count": null,
      "outputs": []
    },
    {
      "cell_type": "markdown",
      "source": [
        "# Closed Range Operator\n",
        "    * a...b to get he numbers between a and b.\n"
      ],
      "metadata": {
        "id": "3PNASD4MowXz"
      }
    },
    {
      "cell_type": "code",
      "source": [
        "var x = [3...6]\n",
        "print(3...6, \" \", x)"
      ],
      "metadata": {
        "id": "lqPud_0koxTN"
      },
      "execution_count": null,
      "outputs": []
    },
    {
      "cell_type": "markdown",
      "source": [
        "# Half-Open Range Operator\n",
        "    * a..<b to the number from a to b not including b"
      ],
      "metadata": {
        "id": "IXaP7_JboZ9D"
      }
    },
    {
      "cell_type": "code",
      "source": [
        "var x = [3..<9]\n",
        "print(x)"
      ],
      "metadata": {
        "id": "vjabSgeopC6F"
      },
      "execution_count": null,
      "outputs": []
    },
    {
      "cell_type": "markdown",
      "source": [
        "# One-Sided Ranges\n",
        "  * using ...b or a... to generate a one sided range"
      ],
      "metadata": {
        "id": "tQ5piMEFpRKT"
      }
    },
    {
      "cell_type": "code",
      "source": [
        "print(3...)\n",
        "print([4...])"
      ],
      "metadata": {
        "id": "r2wyXg0Qpf9e"
      },
      "execution_count": null,
      "outputs": []
    },
    {
      "cell_type": "markdown",
      "source": [
        "<img src=\"https://raw.githubusercontent.com/CEASLIBRARY/Introduction-to-Swift/main/Hanson.png\" height=150 width = 150 align = \"right\"  /> \n",
        "# Exercise 1\n",
        "## Compound Interest Program\n",
        "\n",
        "* Write a program to identify final amount if the principal is compunded every year with annual interet rate of r%.\n",
        "* Formulae for compund Interest\n",
        " \n",
        " * $A = P(1+ \\frac{r}{n})^{nt}$\n",
        " \n",
        "    * A\t=\tfinal amount\n",
        "    * P\t=\tinitial principal balance\n",
        "    * r\t=\tinterest rate\n",
        "    * n\t=\tnumber of times interest applied per time period\n",
        "    * t\t=\tnumber of time periods elapsed\n",
        "* Given $10000 in your account with annual interest rate of 8%. Identify the final amount after 9 years."
      ],
      "metadata": {
        "id": "HZs0dH86qjKI"
      }
    },
    {
      "cell_type": "markdown",
      "metadata": {
        "id": "uwyMjjrGPkGx"
      },
      "source": [
        "# Comments\n",
        "* Sigle line comments  \"//_______________\"\n",
        "* Multline Comments \"/*_________________*/\"\n",
        "* Same as C++"
      ]
    },
    {
      "cell_type": "code",
      "execution_count": null,
      "metadata": {
        "id": "TlN4QqqbP1It"
      },
      "outputs": [],
      "source": [
        "\n",
        "/*This is \n",
        "Multi Line\n",
        "Comment\n",
        "*/\n",
        "\n",
        "//THis is Simgle LIne Comment"
      ]
    },
    {
      "cell_type": "markdown",
      "metadata": {
        "id": "JL_lFdvfQJ7N"
      },
      "source": [
        "# Can Import Symbols using Unicode \n",
        "\n",
        "   * Symbols can also be used as varibales.\n",
        "   * Same as Python"
      ]
    },
    {
      "cell_type": "code",
      "execution_count": null,
      "metadata": {
        "id": "ukxbfVCOQHsi"
      },
      "outputs": [],
      "source": [
        "var xy = \"\\u{2343}\\n\\u{5734}\"\n",
        "print(xy)"
      ]
    },
    {
      "cell_type": "markdown",
      "metadata": {
        "id": "23Kwy7fHJgCa"
      },
      "source": [
        "# Array and Matrices in Swift\n",
        "* String as character arrays\n",
        "* 2D and 3D matrices\n",
        "* Indexing and Slicing \n"
      ]
    },
    {
      "cell_type": "code",
      "execution_count": null,
      "metadata": {
        "id": "VElAYcvLO235"
      },
      "outputs": [],
      "source": [
        "let text = \"Swift is Fast and User Friendly\"\n",
        "var index1 = text.index(text.startIndex, offsetBy: 3)\n",
        "text[index1...]\n"
      ]
    },
    {
      "cell_type": "code",
      "execution_count": null,
      "metadata": {
        "id": "RsagEWL1TCTh"
      },
      "outputs": [],
      "source": [
        "var index2 = text.index(text.startIndex, offsetBy: 5)\n",
        "text[index1..<index2]\n"
      ]
    },
    {
      "cell_type": "code",
      "execution_count": null,
      "metadata": {
        "id": "kuKOaEH5Tdem"
      },
      "outputs": [],
      "source": [
        "let text = \"It needs some practice\"\n",
        "text[text.index(text.startIndex, offsetBy:5)]"
      ]
    },
    {
      "cell_type": "code",
      "execution_count": null,
      "metadata": {
        "id": "FlN1HRROUHie"
      },
      "outputs": [],
      "source": [
        "text[text.index(text.endIndex, offsetBy:-5)]"
      ]
    },
    {
      "cell_type": "markdown",
      "source": [
        "# Accessing Character Before and After\n",
        " * Swift string indices access"
      ],
      "metadata": {
        "id": "P_ElgON_1C3B"
      }
    },
    {
      "cell_type": "code",
      "source": [
        "print(text)\n",
        "text[text.index(before: text.endIndex)]\n"
      ],
      "metadata": {
        "id": "K1l5nHwX1CQr"
      },
      "execution_count": null,
      "outputs": []
    },
    {
      "cell_type": "code",
      "source": [
        "text[text.index(after: text.startIndex)]\n"
      ],
      "metadata": {
        "id": "q6n2lDPc1lSI"
      },
      "execution_count": null,
      "outputs": []
    },
    {
      "cell_type": "code",
      "execution_count": null,
      "metadata": {
        "id": "YRZd5MAITNdn"
      },
      "outputs": [],
      "source": [
        "text[index1...]"
      ]
    },
    {
      "cell_type": "markdown",
      "source": [
        "# Multi Line String\n",
        "* use  \"\"\" to represent multi line strings"
      ],
      "metadata": {
        "id": "SMAJFtPgySK6"
      }
    },
    {
      "cell_type": "code",
      "source": [
        "let multilineString = \"\"\"\n",
        "ssavc\n",
        "These are the same. \n",
        "string across multiple lines \n",
        "\\u{1F496}\n",
        "\"\"\""
      ],
      "metadata": {
        "id": "5EVux9r5x2jm"
      },
      "execution_count": null,
      "outputs": []
    },
    {
      "cell_type": "code",
      "source": [
        "multilineString"
      ],
      "metadata": {
        "id": "j66_0n8-ygba"
      },
      "execution_count": null,
      "outputs": []
    },
    {
      "cell_type": "code",
      "source": [
        "text.isEmpty"
      ],
      "metadata": {
        "id": "5tu56b0tzZ9U"
      },
      "execution_count": null,
      "outputs": []
    },
    {
      "cell_type": "markdown",
      "source": [
        "# String Mutablity\n",
        " * use + operator"
      ],
      "metadata": {
        "id": "74JFRqSvzl34"
      }
    },
    {
      "cell_type": "code",
      "source": [
        "var new_string = \"This is really cool\"\n",
        "new_string += \"But not so easy\"\n",
        "new_string"
      ],
      "metadata": {
        "id": "XOHbSv7ozk_W"
      },
      "execution_count": null,
      "outputs": []
    },
    {
      "cell_type": "markdown",
      "source": [
        "# String interpolation\n",
        " * Create a whole string from mix of variables and string literals"
      ],
      "metadata": {
        "id": "3laaZe300Wka"
      }
    },
    {
      "cell_type": "code",
      "source": [
        "let multiplier = 3\n",
        "let message = \"\\(multiplier) times 2.5 is \\(Double(multiplier) * 2.5)\"\n",
        "message"
      ],
      "metadata": {
        "id": "r7ZpwmFI0V8p"
      },
      "execution_count": null,
      "outputs": []
    },
    {
      "cell_type": "markdown",
      "source": [
        "\n",
        "<img src=\"https://raw.githubusercontent.com/CEASLIBRARY/Introduction-to-Swift/main/Hanson.png\" height=150 width = 150 align = \"right\"  /> \n",
        "# Exercise 2\n",
        "## UC 6+2 program\n",
        "Write a program to generate and print the UC 6+2 ID for a given first & last name.\n",
        "\n",
        "* Take the user's first name and last name and store them in two different variables.\n",
        "* If the length of the last name is >=6, take the first 6 letters from the last name & first and last letters from the first name to form the six plus two.\n",
        "* If the length of the last name is <6, take all of the last name, pick first letters of first name to make up for the length the last name & first and last letters from the remainder of the first name\n",
        "* *Print* out the six plus two in lower case"
      ],
      "metadata": {
        "id": "rTlTGGVOkWgq"
      }
    },
    {
      "cell_type": "markdown",
      "source": [
        "# 1D arrays\n",
        " * How to manuplate index values"
      ],
      "metadata": {
        "id": "rzsdwqhZxlP_"
      }
    },
    {
      "cell_type": "code",
      "execution_count": null,
      "metadata": {
        "id": "rVy1vnGZUcmi"
      },
      "outputs": [],
      "source": [
        "var name = [Int]()\n",
        "name =  Array(repeating: 1, count: 5)\n",
        "name[2..<5]"
      ]
    },
    {
      "cell_type": "markdown",
      "source": [
        "# 2D Arrays \n",
        "* Can be initialized using nested repeating.\n",
        "* row major access\n",
        "* can be range based indexing"
      ],
      "metadata": {
        "id": "pWoX6jINhAes"
      }
    },
    {
      "cell_type": "code",
      "execution_count": null,
      "metadata": {
        "id": "P32Eo2w8LQuy"
      },
      "outputs": [],
      "source": [
        "var floor = [[Int]]()\n",
        "floor = Array(repeating: Array(repeating: 0, count: 5), count: 5)\n",
        "\n",
        "print(floor[0][1])"
      ]
    },
    {
      "cell_type": "code",
      "execution_count": null,
      "metadata": {
        "id": "WsLz51vSMRa1"
      },
      "outputs": [],
      "source": [
        "floor[2][2] = 1 // Center\n",
        "for i in 1..<4 { // 4th row\n",
        "    floor[3][i] = 1\n",
        "}\n",
        "for i in 0..<5 { // Last row\n",
        "    floor[4][i] = 1\n",
        "}"
      ]
    },
    {
      "cell_type": "code",
      "execution_count": null,
      "metadata": {
        "id": "JI6amvy3OLcZ"
      },
      "outputs": [],
      "source": [
        "floor[0..<4]"
      ]
    },
    {
      "cell_type": "markdown",
      "source": [
        "# d-dimensional Arrays\n",
        "* The concept of nested 2D and 3D arrays can be extended to d-dimensions.\n",
        "* indexing Similary to C++ or python with square brackets []."
      ],
      "metadata": {
        "id": "5afTxHdWhftA"
      }
    },
    {
      "cell_type": "code",
      "execution_count": null,
      "metadata": {
        "id": "RkZKC-ZzM2US"
      },
      "outputs": [],
      "source": [
        "var floor = [[[Int]]]()\n",
        "floor = Array(repeating: Array(repeating: Array(repeating: 0, count: 5), count: 5), count: 3)\n"
      ]
    },
    {
      "cell_type": "code",
      "execution_count": null,
      "metadata": {
        "id": "vkSzRh3KNCmB"
      },
      "outputs": [],
      "source": [
        "var level = 1\n",
        "\n",
        "for fl in floor {\n",
        "    print(\"level: \\(level)\")\n",
        "    level += 1\n",
        "    for array in fl {\n",
        "        for value in array {\n",
        "            print(value, terminator: \" \")\n",
        "        }\n",
        "        print(\" \")\n",
        "    }\n",
        "    print(\"-----------------\")\n",
        "}"
      ]
    },
    {
      "cell_type": "markdown",
      "metadata": {
        "id": "KpRKuZ8HQfPX"
      },
      "source": [
        "# Conditional Statements\n",
        "   * If Statement\n",
        "   * If Else Statement\n",
        "   * Nested If Else Statements\n",
        "   * Switch Statements"
      ]
    },
    {
      "cell_type": "code",
      "execution_count": null,
      "metadata": {
        "id": "astnwlOiQeh1"
      },
      "outputs": [],
      "source": [
        "if x == 9{\n",
        "    print(\"x===9\")\n",
        "}"
      ]
    },
    {
      "cell_type": "markdown",
      "metadata": {
        "id": "X753MHLgQvKp"
      },
      "source": [
        "* If Else Statemnt"
      ]
    },
    {
      "cell_type": "code",
      "execution_count": null,
      "metadata": {
        "id": "pPe3EBh-Qz27"
      },
      "outputs": [],
      "source": [
        "var xy  = \"song\"\n",
        "if xy == \"s\"{\n",
        "    print(xy)\n",
        "}\n",
        "else{\n",
        "    print(\"none\")\n",
        "}"
      ]
    },
    {
      "cell_type": "markdown",
      "metadata": {
        "id": "hyP1iTzIQ4gy"
      },
      "source": [
        "* Nested If Else Statements"
      ]
    },
    {
      "cell_type": "code",
      "execution_count": null,
      "metadata": {
        "id": "TtzVGrr2Q8Dv"
      },
      "outputs": [],
      "source": [
        "if xy != \"a\" {\n",
        "    print(xy)\n",
        "}\n",
        "else if xy == \"song\" {\n",
        "    print(\"Yes this is song\")\n",
        "}\n",
        "else {\n",
        "    print(\"None\")\n",
        "}"
      ]
    },
    {
      "cell_type": "markdown",
      "metadata": {
        "id": "I9AvVCt0RauS"
      },
      "source": [
        "* Switch Statement"
      ]
    },
    {
      "cell_type": "code",
      "execution_count": null,
      "metadata": {
        "id": "6fnIq9Qr9L5D"
      },
      "outputs": [],
      "source": [
        "var s = 90\n",
        "switch s {\n",
        "    case 34:\n",
        "            print(\"Here\")\n",
        "    case 234, 41:\n",
        "        print(\"sfsaf\")\n",
        "    case 234:\n",
        "         print(\"sazfca\") \n",
        "    case 5..<12:\n",
        "          print(\"Sdfsc\")\n",
        "    default:\n",
        "     print(\"asFZc\")\n",
        "}\n"
      ]
    },
    {
      "cell_type": "markdown",
      "metadata": {
        "id": "fQAV-CjARh23"
      },
      "source": [
        "# Control Flow\n",
        "   * looping Constructs\n",
        "   * For Loop\n",
        "   * While loop\n",
        "   * Repeat-while Loop\n"
      ]
    },
    {
      "cell_type": "code",
      "execution_count": null,
      "metadata": {
        "id": "2izt50CbRivU"
      },
      "outputs": [],
      "source": [
        "var num = 0\n",
        "\n",
        "for xr in 1...4{\n",
        "    print(xr)\n",
        "}\n",
        "\n"
      ]
    },
    {
      "cell_type": "code",
      "execution_count": null,
      "metadata": {
        "id": "BUs2hDIZMj3a"
      },
      "outputs": [],
      "source": [
        "for i in 1..<4{\n",
        "    print(i)\n",
        "}"
      ]
    },
    {
      "cell_type": "markdown",
      "metadata": {
        "id": "Qx-X1gAoRyrZ"
      },
      "source": [
        "* Strides for For loop to set versatile range patterns"
      ]
    },
    {
      "cell_type": "code",
      "execution_count": null,
      "metadata": {
        "id": "JgxjingwRx65"
      },
      "outputs": [],
      "source": [
        "for xr in stride(from: 5,to: 1,by:-1){\n",
        "    print(xr)\n",
        "}"
      ]
    },
    {
      "cell_type": "markdown",
      "metadata": {
        "id": "Vs_sL09FR5fk"
      },
      "source": [
        "* While loop and Termination Condition\n"
      ]
    },
    {
      "cell_type": "code",
      "execution_count": null,
      "metadata": {
        "id": "xXAIbrj6R6bZ"
      },
      "outputs": [],
      "source": [
        "\n",
        "while num<10{\n",
        "\n",
        "   num = num + 1\n",
        "}"
      ]
    },
    {
      "cell_type": "markdown",
      "metadata": {
        "id": "2JQoa79cSFbw"
      },
      "source": [
        "* Repeat While Loop\n",
        "* how is it different for while loop"
      ]
    },
    {
      "cell_type": "code",
      "execution_count": null,
      "metadata": {
        "id": "CPoCHPHBSDbB"
      },
      "outputs": [],
      "source": [
        "repeat {\n",
        "    num = num+1\n",
        "}while(num<30)"
      ]
    },
    {
      "cell_type": "markdown",
      "metadata": {
        "id": "RW9pXXzjSNbH"
      },
      "source": [
        "# Functions/ Modules/ Routines\n",
        "\n",
        "  * Set of reusable code\n",
        "  * Drastically reduce the code length for repetetive patterns\n",
        "  * Syntax for function Definition"
      ]
    },
    {
      "cell_type": "code",
      "execution_count": null,
      "metadata": {
        "id": "WaaOTi8tSYs6"
      },
      "outputs": [],
      "source": [
        "\n",
        "func print123(){\n",
        "    print(\"Hello\")\n",
        "}\n"
      ]
    },
    {
      "cell_type": "markdown",
      "metadata": {
        "id": "5niF5GLgSgsg"
      },
      "source": [
        "\n",
        "* Function with return statement anf Parameters\n"
      ]
    },
    {
      "cell_type": "code",
      "execution_count": null,
      "metadata": {
        "id": "DldwejU7Sft0"
      },
      "outputs": [],
      "source": [
        "\n",
        "\n",
        "func add(arg1 par1:Int,arg2 par2:Int)->Int{\n",
        "\n",
        "    return par1+par2\n",
        "}\n",
        "\n",
        "print(add(arg1: 34, arg2 :32))\n",
        "\n"
      ]
    },
    {
      "cell_type": "code",
      "source": [
        "func greet(person: String) -> String {\n",
        "      let greeting = \"Hello, \" + person + \"!\"\n",
        "      return greeting\n",
        "     }\n",
        "\n",
        "print(greet(person: \"Brian\"))"
      ],
      "metadata": {
        "id": "da5gGpUiW6GC"
      },
      "execution_count": null,
      "outputs": []
    },
    {
      "cell_type": "markdown",
      "source": [
        ""
      ],
      "metadata": {
        "id": "rCnexKSZXAPu"
      }
    },
    {
      "cell_type": "markdown",
      "source": [
        "\n",
        "<img src=\"https://raw.githubusercontent.com/CEASLIBRARY/Introduction-to-Swift/main/Hanson.png\" height=150 width = 150 align = \"right\"  /> \n",
        "# Exercise 3\n",
        "## Prime Numbers\n",
        "Write a program to identify first 20 prime Numbers\n",
        "\n",
        "* Prime numbers are only divisible by 1 and themself.\n",
        "* Check is any other number divide X, if yes, than X is not a prime otherwise prime.\n",
        "* Count the identified prime numbers and stop when the count reaches 20."
      ],
      "metadata": {
        "id": "pW9wJHC3ytSP"
      }
    },
    {
      "cell_type": "code",
      "source": [
        "/*\n",
        "Write your Code Here\n",
        "*/"
      ],
      "metadata": {
        "id": "WcH9mLcAzXvA"
      },
      "execution_count": null,
      "outputs": []
    },
    {
      "cell_type": "markdown",
      "source": [
        "# What we have Learned\n",
        "* variables and constants\n",
        "* strings and arrays\n",
        "* 1D, 2D and nd Matrices\n",
        "* Conditional statements\n",
        "* Control Flow\n",
        "* Functions\n",
        "\n",
        "# Future Topics\n",
        "* App Designing With Swift\n",
        "* UI Designing\n",
        "* Integrating UI with Back End\n",
        "* Interoperatability\n",
        "\n",
        "\n"
      ],
      "metadata": {
        "id": "Vqgyxhwn3hOM"
      }
    },
    {
      "cell_type": "markdown",
      "source": [
        "# More Information\n",
        "\n",
        "* Read official Swift Documentaion at [link](https://www.swift.org/documentation/).\n",
        "* Other Resources : [Tutorials](https://www.tutorialspoint.com/swift/index.htm)"
      ],
      "metadata": {
        "id": "GV5BsMG44ZL_"
      }
    }
  ],
  "metadata": {
    "colab": {
      "collapsed_sections": [],
      "name": "SwiftProgramming.ipynb",
      "provenance": [],
      "include_colab_link": true
    },
    "kernelspec": {
      "display_name": "Python 3 (ipykernel)",
      "language": "python",
      "name": "python3"
    },
    "language_info": {
      "codemirror_mode": {
        "name": "ipython",
        "version": 3
      },
      "file_extension": ".py",
      "mimetype": "text/x-python",
      "name": "python",
      "nbconvert_exporter": "python",
      "pygments_lexer": "ipython3",
      "version": "3.9.12"
    }
  },
  "nbformat": 4,
  "nbformat_minor": 0
}