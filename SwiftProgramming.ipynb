{
  "nbformat": 4,
  "nbformat_minor": 0,
  "metadata": {
    "colab": {
      "name": "Untitled3.ipynb",
      "provenance": [],
      "collapsed_sections": [],
      "authorship_tag": "ABX9TyPbY5Cr0/gCtHoSDYjWacbu",
      "include_colab_link": true
    },
    "kernelspec": {
      "name": "python3",
      "display_name": "Python 3"
    },
    "language_info": {
      "name": "python"
    }
  },
  "cells": [
    {
      "cell_type": "markdown",
      "metadata": {
        "id": "view-in-github",
        "colab_type": "text"
      },
      "source": [
        "<a href=\"https://colab.research.google.com/github/rohitpalsingh/Introduction-to-Swift-Programming/blob/main/SwiftProgramming.ipynb\" target=\"_parent\"><img src=\"https://colab.research.google.com/assets/colab-badge.svg\" alt=\"Open In Colab\"/></a>"
      ]
    },
    {
      "cell_type": "markdown",
      "source": [
        "<img src=\"https://developer.apple.com/swift/images/swift-og.png\" height=\"20\" align = \"right\"  /> \n",
        "\n",
        "# **Workshop : Introduction to Swift Programming**\n",
        "# *Objectives*\n",
        "* Introduction to Swift \n",
        "  * Basics of Swift :  a brief backgound.\n",
        "  * Setting up Swift IDE or REPL Environment.\n",
        "* Hands on with Julia\n",
        "   * Variables and Data Types.\n",
        "   * Varibale Scope and Constants\n",
        "   * Data Structures.\n",
        "   * Control Flow.\n",
        "   * Functions.\n",
        "\n",
        "# *Future Topics*\n",
        "\n",
        "Classes, Packages, UI Development, Swift of AI, Code Optimization and Interoperability.\n",
        "   \n",
        "\n",
        "\n",
        "\n",
        "\n",
        "\n"
      ],
      "metadata": {
        "id": "ZGiUS7l5Jlif"
      }
    },
    {
      "cell_type": "markdown",
      "source": [
        "\n",
        "# **Introduction to Swift**  \n",
        "  * Swift is a general purpose, compiled programming language which was started by Chris Lattner and team in 2010 and further developed by Apple Inc.\n",
        "  *  Swift is used for modern approach to software design patterns like macOS, iOS, watchOS, tvOS, and beyond. \n",
        "  * Swift developer base has recently grown beyond apple products with support for cross platform operability. \n",
        "  * The heart of the Swift language is its LLVM compiler environment which converts the code to intermediate representation known as LLVM-IR. This allows swift to either compiler the IR to stand along binary or perform JIT (Just In Time) compilation. \n",
        "  * Swift playground in Xcode also allows REPL (Read-Eval-Print loop) to evaluate expressions as soon as they are written.\n",
        "\n",
        "Please visit LLVM, JIT, REPL  for more information.\n",
        "\n",
        "\n",
        "# **Swift _vs._ C++/C _vs._ Python**\n",
        "\n",
        " Swift feels like python but runs like C++/C.\n",
        " \n",
        "# **Ways to run Swift**\n",
        "\n",
        "Three ways to run Julia code: \n",
        "  * the first one is through the Swift REPL (on Terminal),\n",
        "  * through the IDE: Xcode , VSCode_, and\n",
        "  * Cloud Platforms: _Colab, Kaggle, CoCalc etc_.\n",
        "\n"
      ],
      "metadata": {
        "id": "OyD0mfouKXkh"
      }
    },
    {
      "cell_type": "markdown",
      "source": [
        "# Swift Kernel for Google Colab\n",
        "When making a Swift notebook, copy the official template instead. It contains the commands listed below, which download and compile the Jupyter kernel. Run the first code cell and follow the instructions for restarting the runtime."
      ],
      "metadata": {
        "id": "B4xA45dGI1dJ"
      }
    },
    {
      "cell_type": "code",
      "execution_count": 1,
      "metadata": {
        "colab": {
          "base_uri": "https://localhost:8080/",
          "height": 635
        },
        "id": "GxXaw1cF8ZC6",
        "outputId": "d7175694-d3e5-40bc-9d8f-da807c38175a"
      },
      "outputs": [
        {
          "output_type": "stream",
          "name": "stdout",
          "text": [
            "\u001b[0;1m<Cell 1>:1:6: \u001b[0m\u001b[0;1;31merror: \u001b[0m\u001b[0;1mconsecutive statements on a line must be separated by ';'\u001b[0m\n",
            "!curl \"https://raw.githubusercontent.com/philipturner/swift-colab/release/latest/install_swift.sh\" --output \"install_swift.sh\"\n",
            "\u001b[0;1;32m     ^\u001b[0m\n",
            "     ;\n",
            "\n",
            "\u001b[0;1m<Cell 1>:1:99: \u001b[0m\u001b[0;1;31merror: \u001b[0m\u001b[0;1mconsecutive statements on a line must be separated by ';'\u001b[0m\n",
            "!curl \"https://raw.githubusercontent.com/philipturner/swift-colab/release/latest/install_swift.sh\" --output \"install_swift.sh\"\n",
            "\u001b[0;1;32m                                                                                                  ^\u001b[0m\n",
            "                                                                                                  ;\n",
            "\n",
            "\u001b[0;1m<Cell 1>:1:108: \u001b[0m\u001b[0;1;31merror: \u001b[0m\u001b[0;1mconsecutive statements on a line must be separated by ';'\u001b[0m\n",
            "!curl \"https://raw.githubusercontent.com/philipturner/swift-colab/release/latest/install_swift.sh\" --output \"install_swift.sh\"\n",
            "\u001b[0;1;32m                                                                                                           ^\u001b[0m\n",
            "                                                                                                           ;\n",
            "\n",
            "\u001b[0;1m<Cell 1>:2:6: \u001b[0m\u001b[0;1;31merror: \u001b[0m\u001b[0;1mconsecutive statements on a line must be separated by ';'\u001b[0m\n",
            "!bash \"install_swift.sh\" \"5.6.2\" #// Replace 5.6.2 with newest Swift version.\n",
            "\u001b[0;1;32m     ^\u001b[0m\n",
            "     ;\n",
            "\n",
            "\u001b[0;1m<Cell 1>:2:25: \u001b[0m\u001b[0;1;31merror: \u001b[0m\u001b[0;1mconsecutive statements on a line must be separated by ';'\u001b[0m\n",
            "!bash \"install_swift.sh\" \"5.6.2\" #// Replace 5.6.2 with newest Swift version.\n",
            "\u001b[0;1;32m                        ^\u001b[0m\n",
            "                        ;\n",
            "\n",
            "\u001b[0;1m<Cell 1>:2:33: \u001b[0m\u001b[0;1;31merror: \u001b[0m\u001b[0;1mconsecutive statements on a line must be separated by ';'\u001b[0m\n",
            "!bash \"install_swift.sh\" \"5.6.2\" #// Replace 5.6.2 with newest Swift version.\n",
            "\u001b[0;1;32m                                ^\u001b[0m\n",
            "                                ;\n",
            "\n",
            "\u001b[0;1m<Cell 1>:2:34: \u001b[0m\u001b[0;1;31merror: \u001b[0m\u001b[0;1mexpected expression\u001b[0m\n",
            "!bash \"install_swift.sh\" \"5.6.2\" #// Replace 5.6.2 with newest Swift version.\n",
            "\u001b[0;1;32m                                 ^\u001b[0m\n"
          ]
        },
        {
          "output_type": "error",
          "ename": "",
          "evalue": "ignored",
          "traceback": []
        }
      ],
      "source": [
        "!curl \"https://raw.githubusercontent.com/philipturner/swift-colab/release/latest/install_swift.sh\" --output \"install_swift.sh\"\n",
        "!bash \"install_swift.sh\" \"5.6.2\" #// Replace 5.6.2 with newest Swift version.\n",
        "#// After this cell finishes, go to Runtime > Restart runtime."
      ]
    },
    {
      "cell_type": "markdown",
      "source": [
        "# Constants and Variables\n",
        " *  Declaring Constants and Variables.\n",
        " *  Variable naming convention.\n",
        " *  Use var keyword to define Vairibale."
      ],
      "metadata": {
        "id": "z31uhLtQLvrR"
      }
    },
    {
      "cell_type": "code",
      "source": [
        "var abc = \"String\"\n"
      ],
      "metadata": {
        "colab": {
          "base_uri": "https://localhost:8080/"
        },
        "id": "gaTEre7X9Epk",
        "outputId": "84c80f3b-5705-411c-8af5-b440c2671330"
      },
      "execution_count": 2,
      "outputs": [
        {
          "output_type": "stream",
          "name": "stdout",
          "text": [
            ""
          ]
        }
      ]
    },
    {
      "cell_type": "markdown",
      "source": [
        " # Data Type Inferencing\n",
        "   * Data Type can not be changed later.\n",
        "   * But Value can be changed."
      ],
      "metadata": {
        "id": "aAlZ7zcFNAAK"
      }
    },
    {
      "cell_type": "code",
      "source": [
        "abc = 34"
      ],
      "metadata": {
        "colab": {
          "base_uri": "https://localhost:8080/",
          "height": 114
        },
        "id": "ZRv70aUgNTCJ",
        "outputId": "1f9bfa8f-4170-4981-c1d6-db6c2b2e6ac0"
      },
      "execution_count": 10,
      "outputs": [
        {
          "output_type": "stream",
          "name": "stdout",
          "text": [
            "\u001b[0;1m<Cell 10>:1:7: \u001b[0m\u001b[0;1;31merror: \u001b[0m\u001b[0;1mcannot assign value of type 'Int' to type 'String'\u001b[0m\n",
            "abc = 34\n",
            "\u001b[0;1;32m      ^~\u001b[0m\n"
          ]
        },
        {
          "output_type": "error",
          "ename": "",
          "evalue": "ignored",
          "traceback": []
        }
      ]
    },
    {
      "cell_type": "code",
      "source": [
        "abc = \"sdfzx\""
      ],
      "metadata": {
        "colab": {
          "base_uri": "https://localhost:8080/"
        },
        "id": "xxr11VV-M-lH",
        "outputId": "552bb8ff-489f-4e3c-cda2-e92e8a8fd727"
      },
      "execution_count": 11,
      "outputs": [
        {
          "output_type": "stream",
          "name": "stdout",
          "text": [
            ""
          ]
        }
      ]
    },
    {
      "cell_type": "code",
      "source": [
        "var str = \"This is string\"\n",
        "var appleCount = 24"
      ],
      "metadata": {
        "colab": {
          "base_uri": "https://localhost:8080/"
        },
        "id": "w8mLcUPVMZ-T",
        "outputId": "0d0fdca0-22cb-48d9-af11-3ff20b5cac6f"
      },
      "execution_count": 3,
      "outputs": [
        {
          "output_type": "stream",
          "name": "stdout",
          "text": [
            ""
          ]
        }
      ]
    },
    {
      "cell_type": "markdown",
      "source": [
        "## Constants are Immutable\n",
        " * Use Let keyword to define constants.\n",
        " * Once assigned their values can not be changed"
      ],
      "metadata": {
        "id": "5tgfAXLDMqM1"
      }
    },
    {
      "cell_type": "code",
      "source": [
        "let x = 23"
      ],
      "metadata": {
        "colab": {
          "base_uri": "https://localhost:8080/"
        },
        "id": "-_twgF9FMl0G",
        "outputId": "8ac2ce7c-2783-4e6f-d2a4-a565ce859fc4"
      },
      "execution_count": 4,
      "outputs": [
        {
          "output_type": "stream",
          "name": "stdout",
          "text": [
            ""
          ]
        }
      ]
    },
    {
      "cell_type": "markdown",
      "source": [
        "# Statistically Typed Data Type\n",
        "\n",
        " * To force type use static declarations\n",
        " * Syntax _var name:datatype = value_"
      ],
      "metadata": {
        "id": "vHev5iTYNoZg"
      }
    },
    {
      "cell_type": "code",
      "source": [
        "var x:Int = 99\n",
        "let t:String = \"10\""
      ],
      "metadata": {
        "colab": {
          "base_uri": "https://localhost:8080/"
        },
        "id": "ejwoVId9N6Ey",
        "outputId": "3996e6ae-9879-4152-cf35-9c70c24a3350"
      },
      "execution_count": 1,
      "outputs": [
        {
          "output_type": "stream",
          "name": "stdout",
          "text": [
            ""
          ]
        }
      ]
    },
    {
      "cell_type": "markdown",
      "source": [
        "# Type Conversion\n",
        "\n",
        "* Wrapper Classes to conver from one Data type to another (Just look them as function for now)\n",
        "* Information is lost if converting from high precesion to low precision numbers\n",
        "\n"
      ],
      "metadata": {
        "id": "rdBmCi3NOCSh"
      }
    },
    {
      "cell_type": "code",
      "source": [
        "var x = 3.423\n",
        "print(type(of:x))\n",
        "var y = Int(x)\n",
        "print(type(of:y))"
      ],
      "metadata": {
        "colab": {
          "base_uri": "https://localhost:8080/"
        },
        "id": "jF7ozONLOBa5",
        "outputId": "1013d99d-10ee-4fac-9a74-a403f8fde4fb"
      },
      "execution_count": 4,
      "outputs": [
        {
          "output_type": "stream",
          "name": "stdout",
          "text": [
            "Double\r\n",
            "Int\r\n"
          ]
        }
      ]
    },
    {
      "cell_type": "markdown",
      "source": [
        "# Comments\n",
        "* Sigle line comments  \"//_______________\"\n",
        "* Multline Comments \"/*_________________*/\"\n",
        "* Same as C++"
      ],
      "metadata": {
        "id": "uwyMjjrGPkGx"
      }
    },
    {
      "cell_type": "code",
      "source": [
        "\n",
        "/*This is \n",
        "Multi Line\n",
        "Comment\n",
        "*/\n",
        "\n",
        "//THis is Simgle LIne Comment"
      ],
      "metadata": {
        "colab": {
          "base_uri": "https://localhost:8080/"
        },
        "id": "TlN4QqqbP1It",
        "outputId": "eea714ce-faa7-478f-eca8-88cb927123dd"
      },
      "execution_count": 5,
      "outputs": [
        {
          "output_type": "stream",
          "name": "stdout",
          "text": [
            ""
          ]
        }
      ]
    },
    {
      "cell_type": "markdown",
      "source": [
        "# Can Import Symbols using Unicode \n",
        "\n",
        "   * Symbols can also be used as varibales."
      ],
      "metadata": {
        "id": "JL_lFdvfQJ7N"
      }
    },
    {
      "cell_type": "code",
      "source": [
        "var xy = \"\\u{2343}\\n\\u{5734}\"\n",
        "print(xy)"
      ],
      "metadata": {
        "colab": {
          "base_uri": "https://localhost:8080/"
        },
        "id": "ukxbfVCOQHsi",
        "outputId": "db72d198-1eac-445d-dbf6-7481cd82a89c"
      },
      "execution_count": 9,
      "outputs": [
        {
          "output_type": "stream",
          "name": "stdout",
          "text": [
            "⍃\r\n",
            "圴\r\n"
          ]
        }
      ]
    },
    {
      "cell_type": "markdown",
      "source": [
        "# Conditional Statements\n",
        "   * If Statement\n",
        "   * If Else Statement\n",
        "   * Nested If Else Statements\n",
        "   * Switch Statements"
      ],
      "metadata": {
        "id": "KpRKuZ8HQfPX"
      }
    },
    {
      "cell_type": "code",
      "source": [
        "if x == 9{\n",
        "    print(\"x===9\")\n",
        "}"
      ],
      "metadata": {
        "colab": {
          "base_uri": "https://localhost:8080/"
        },
        "id": "astnwlOiQeh1",
        "outputId": "418609bc-53a2-4b40-ed22-43ba2793dcde"
      },
      "execution_count": 10,
      "outputs": [
        {
          "output_type": "stream",
          "name": "stdout",
          "text": [
            ""
          ]
        }
      ]
    },
    {
      "cell_type": "markdown",
      "source": [
        "* If Else Statemnt"
      ],
      "metadata": {
        "id": "X753MHLgQvKp"
      }
    },
    {
      "cell_type": "code",
      "source": [
        "xy  = \"song\"\n",
        "if xy == \"s\"{\n",
        "    print(xy)\n",
        "}\n",
        "else{\n",
        "    print(\"none\")\n",
        "}"
      ],
      "metadata": {
        "colab": {
          "base_uri": "https://localhost:8080/"
        },
        "id": "pPe3EBh-Qz27",
        "outputId": "10d93c3f-2081-46a8-c447-d30817db459f"
      },
      "execution_count": 13,
      "outputs": [
        {
          "output_type": "stream",
          "name": "stdout",
          "text": [
            "none\r\n"
          ]
        }
      ]
    },
    {
      "cell_type": "markdown",
      "source": [
        "* Nested If Else Statements"
      ],
      "metadata": {
        "id": "hyP1iTzIQ4gy"
      }
    },
    {
      "cell_type": "code",
      "source": [
        "if xy != \"a\" {\n",
        "    print(xy)\n",
        "}\n",
        "else if xy == \"song\" {\n",
        "    print(\"Yes this is song\")\n",
        "}\n",
        "else {\n",
        "    print(\"None\")\n",
        "}"
      ],
      "metadata": {
        "colab": {
          "base_uri": "https://localhost:8080/"
        },
        "id": "TtzVGrr2Q8Dv",
        "outputId": "2da2476b-f6ff-455b-ae6d-47da69aebc7e"
      },
      "execution_count": 15,
      "outputs": [
        {
          "output_type": "stream",
          "name": "stdout",
          "text": [
            "song\r\n"
          ]
        }
      ]
    },
    {
      "cell_type": "markdown",
      "source": [
        "* Switch Statement"
      ],
      "metadata": {
        "id": "I9AvVCt0RauS"
      }
    },
    {
      "cell_type": "code",
      "source": [
        "var s = 90\n",
        "switch s {\n",
        "    case 34:\n",
        "            print(\"Here\")\n",
        "    case 234, 41:\n",
        "        print(\"sfsaf\")\n",
        "    case 234:\n",
        "         print(\"sazfca\") \n",
        "    case 5..<12:\n",
        "          print(\"Sdfsc\")\n",
        "    default:\n",
        "     print(\"asFZc\")\n",
        "}\n"
      ],
      "metadata": {
        "id": "6fnIq9Qr9L5D",
        "colab": {
          "base_uri": "https://localhost:8080/"
        },
        "outputId": "358d32b0-f6d5-45a3-c889-841d6fec5258"
      },
      "execution_count": 16,
      "outputs": [
        {
          "output_type": "stream",
          "name": "stdout",
          "text": [
            "asFZc\r\n"
          ]
        }
      ]
    },
    {
      "cell_type": "markdown",
      "source": [
        "# Control Flow\n",
        "   * looping Constructs\n",
        "   * For Loop\n",
        "   * While loop\n",
        "   * Repeat-while Loop\n"
      ],
      "metadata": {
        "id": "fQAV-CjARh23"
      }
    },
    {
      "cell_type": "code",
      "source": [
        "var num = 0\n",
        "\n",
        "for xr in 1...45{\n",
        "    print(xr)\n",
        "}\n",
        "\n"
      ],
      "metadata": {
        "id": "2izt50CbRivU"
      },
      "execution_count": null,
      "outputs": []
    },
    {
      "cell_type": "markdown",
      "source": [
        "* Strides for For loop to set versatile range patterns"
      ],
      "metadata": {
        "id": "Qx-X1gAoRyrZ"
      }
    },
    {
      "cell_type": "code",
      "source": [
        "for xr in stride(from: 45,to: 1,by:-1){\n",
        "    print(xr)\n",
        "}"
      ],
      "metadata": {
        "id": "JgxjingwRx65"
      },
      "execution_count": null,
      "outputs": []
    },
    {
      "cell_type": "markdown",
      "source": [
        "* While loop and Termination Condition\n"
      ],
      "metadata": {
        "id": "Vs_sL09FR5fk"
      }
    },
    {
      "cell_type": "code",
      "source": [
        "\n",
        "while num<10{\n",
        "\n",
        "   num = num + 1\n",
        "}"
      ],
      "metadata": {
        "id": "xXAIbrj6R6bZ"
      },
      "execution_count": null,
      "outputs": []
    },
    {
      "cell_type": "markdown",
      "source": [
        "* Repeat While Loop\n",
        "* how is it different for while loop"
      ],
      "metadata": {
        "id": "2JQoa79cSFbw"
      }
    },
    {
      "cell_type": "code",
      "source": [
        "repeat {\n",
        "    num = num+1\n",
        "}while(num<30)"
      ],
      "metadata": {
        "id": "CPoCHPHBSDbB"
      },
      "execution_count": null,
      "outputs": []
    },
    {
      "cell_type": "markdown",
      "source": [
        "# Functions/ Modules/ Routines\n",
        "\n",
        "  * Set of reusable code\n",
        "  * Drastically reduce the code length for repetetive patterns\n",
        "  * Syntax for function Definition"
      ],
      "metadata": {
        "id": "RW9pXXzjSNbH"
      }
    },
    {
      "cell_type": "code",
      "source": [
        "\n",
        "func print123(){\n",
        "    print(\"Hello\")\n",
        "}\n"
      ],
      "metadata": {
        "id": "WaaOTi8tSYs6"
      },
      "execution_count": null,
      "outputs": []
    },
    {
      "cell_type": "markdown",
      "source": [
        "\n",
        "* Function with return statement anf Parameters\n"
      ],
      "metadata": {
        "id": "5niF5GLgSgsg"
      }
    },
    {
      "cell_type": "code",
      "source": [
        "\n",
        "\n",
        "func add(arg1 par1:Int,arg2 par2:Int)->Int{\n",
        "\n",
        "    return par1+par2\n",
        "}\n",
        "\n",
        "print(add(arg1: 34, arg2 :32))\n",
        "\n"
      ],
      "metadata": {
        "id": "DldwejU7Sft0"
      },
      "execution_count": null,
      "outputs": []
    }
  ]
}