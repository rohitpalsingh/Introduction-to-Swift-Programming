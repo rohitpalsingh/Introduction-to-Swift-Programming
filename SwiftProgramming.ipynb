{
  "nbformat": 4,
  "nbformat_minor": 0,
  "metadata": {
    "colab": {
      "name": "Untitled3.ipynb",
      "provenance": [],
      "collapsed_sections": [],
      "authorship_tag": "ABX9TyMwAnPdCuSQzJfk7FeK6VO9",
      "include_colab_link": true
    },
    "kernelspec": {
      "name": "python3",
      "display_name": "Python 3"
    },
    "language_info": {
      "name": "python"
    }
  },
  "cells": [
    {
      "cell_type": "markdown",
      "metadata": {
        "id": "view-in-github",
        "colab_type": "text"
      },
      "source": [
        "<a href=\"https://colab.research.google.com/github/rohitpalsingh/Introduction-to-Swift-Programming/blob/main/SwiftProgramming.ipynb\" target=\"_parent\"><img src=\"https://colab.research.google.com/assets/colab-badge.svg\" alt=\"Open In Colab\"/></a>"
      ]
    },
    {
      "cell_type": "markdown",
      "source": [
        "<img src=\"https://developer.apple.com/swift/images/swift-og.png\" height=\"150\" align = \"right\"  /> \n",
        "\n",
        "# **Workshop : Introduction to Swift Programming**\n",
        "# *Objectives*\n",
        "* Introduction to Swift \n",
        "  * Basics of Swift :  a brief backgound.\n",
        "  * Setting up Swift IDE or REPL Environment.\n",
        "* Hands on with Julia\n",
        "   * Variables and Data Types.\n",
        "   * Varibale Scope and Constants\n",
        "   * Data Structures.\n",
        "   * Control Flow.\n",
        "   * Functions.\n",
        "\n",
        "# *Future Topics*\n",
        "\n",
        "Classes, Packages, UI Development, Swift of AI, Code Optimization and Interoperability.\n",
        "   \n",
        "\n",
        "\n",
        "\n",
        "\n",
        "\n"
      ],
      "metadata": {
        "id": "ZGiUS7l5Jlif"
      }
    },
    {
      "cell_type": "markdown",
      "source": [
        "\n",
        "# **Introduction to Swift**  \n",
        "  * Swift is a general purpose, compiled programming language which was started by Chris Lattner and team in 2010 and further developed by Apple Inc.\n",
        "  *  Swift is used for modern approach to software design patterns like macOS, iOS, watchOS, tvOS, and beyond. \n",
        "  * Swift developer base has recently grown beyond apple products with support for cross platform operability. \n",
        "  * The heart of the Swift language is its LLVM compiler environment which converts the code to intermediate representation known as LLVM-IR. This allows swift to either compiler the IR to stand along binary or perform JIT (Just In Time) compilation. \n",
        "  * Swift playground in Xcode also allows REPL (Read-Eval-Print loop) to evaluate expressions as soon as they are written.\n",
        "\n",
        "Please visit LLVM, JIT, REPL  for more information.\n",
        "\n",
        "\n",
        "# **Swift _vs._ C++/C _vs._ Python**\n",
        "\n",
        " Swift feels like python but runs like C++/C.\n",
        " \n",
        "# **Ways to run Swift**\n",
        "\n",
        "Three ways to run Julia code: \n",
        "  * the first one is through the Swift REPL (on Terminal),\n",
        "  * through the IDE: Xcode , VSCode_, and\n",
        "  * Cloud Platforms: _Colab, Kaggle, CoCalc etc_.\n",
        "\n"
      ],
      "metadata": {
        "id": "OyD0mfouKXkh"
      }
    },
    {
      "cell_type": "markdown",
      "source": [
        "# Swift Kernel for Google Colab\n",
        "When making a Swift notebook, copy the official template instead. It contains the commands listed below, which download and compile the Jupyter kernel. Run the first code cell and follow the instructions for restarting the runtime."
      ],
      "metadata": {
        "id": "B4xA45dGI1dJ"
      }
    },
    {
      "cell_type": "code",
      "execution_count": 9,
      "metadata": {
        "colab": {
          "base_uri": "https://localhost:8080/"
        },
        "id": "GxXaw1cF8ZC6",
        "outputId": "dcd7b985-5b91-4a1a-8e9b-189ab1603bd8"
      },
      "outputs": [
        {
          "output_type": "stream",
          "name": "stdout",
          "text": [
            "  % Total    % Received % Xferd  Average Speed   Time    Time     Time  Current\n",
            "                                 Dload  Upload   Total   Spent    Left  Speed\n",
            "\r  0     0    0     0    0     0      0      0 --:--:-- --:--:-- --:--:--     0\r100  6439  100  6439    0     0   184k      0 --:--:-- --:--:-- --:--:--  184k\n",
            "Using cached Swift 5.6.2\n",
            "Using cached Swift-Colab\n",
            "Using cached Swift LLDB bindings\n",
            "Using cached JupyterKernel library\n",
            "=== ------------------------------------------------------------------------ ===\n",
            "=== Swift-Colab overwrote the Python kernel with Swift, but Colab is still   ===\n",
            "=== in Python mode. To enter Swift mode, go to Runtime > Restart runtime.    ===\n",
            "=== ------------------------------------------------------------------------ ===\n"
          ]
        }
      ],
      "source": [
        "!curl \"https://raw.githubusercontent.com/philipturner/swift-colab/release/latest/install_swift.sh\" --output \"install_swift.sh\"\n",
        "!bash \"install_swift.sh\" \"5.6.2\" #// Replace 5.6.2 with newest Swift version.\n",
        "#// After this cell finishes, go to Runtime > Restart runtime."
      ]
    },
    {
      "cell_type": "markdown",
      "source": [
        "# Constants and Variables\n",
        " *  Declaring Constants and Variables.\n",
        " *  Variable naming convention.\n",
        " *  Use var keyword to define Vairibale."
      ],
      "metadata": {
        "id": "z31uhLtQLvrR"
      }
    },
    {
      "cell_type": "code",
      "source": [
        "var abc = \"String\"\n"
      ],
      "metadata": {
        "colab": {
          "base_uri": "https://localhost:8080/"
        },
        "id": "gaTEre7X9Epk",
        "outputId": "8daafef6-f791-48ef-e2a3-6c9f5d85505f"
      },
      "execution_count": 6,
      "outputs": [
        {
          "output_type": "stream",
          "name": "stdout",
          "text": [
            ""
          ]
        }
      ]
    },
    {
      "cell_type": "markdown",
      "source": [
        " # Data Type Inferencing\n",
        "   * Data Type can not be changed later.\n",
        "   * But Value can be changed."
      ],
      "metadata": {
        "id": "aAlZ7zcFNAAK"
      }
    },
    {
      "cell_type": "code",
      "source": [
        "abc = 34"
      ],
      "metadata": {
        "colab": {
          "base_uri": "https://localhost:8080/",
          "height": 114
        },
        "id": "ZRv70aUgNTCJ",
        "outputId": "1f9bfa8f-4170-4981-c1d6-db6c2b2e6ac0"
      },
      "execution_count": 10,
      "outputs": [
        {
          "output_type": "stream",
          "name": "stdout",
          "text": [
            "\u001b[0;1m<Cell 10>:1:7: \u001b[0m\u001b[0;1;31merror: \u001b[0m\u001b[0;1mcannot assign value of type 'Int' to type 'String'\u001b[0m\n",
            "abc = 34\n",
            "\u001b[0;1;32m      ^~\u001b[0m\n"
          ]
        },
        {
          "output_type": "error",
          "ename": "",
          "evalue": "ignored",
          "traceback": []
        }
      ]
    },
    {
      "cell_type": "code",
      "source": [
        "abc = \"sdfzx\""
      ],
      "metadata": {
        "colab": {
          "base_uri": "https://localhost:8080/"
        },
        "id": "xxr11VV-M-lH",
        "outputId": "552bb8ff-489f-4e3c-cda2-e92e8a8fd727"
      },
      "execution_count": 11,
      "outputs": [
        {
          "output_type": "stream",
          "name": "stdout",
          "text": [
            ""
          ]
        }
      ]
    },
    {
      "cell_type": "code",
      "source": [
        "var str = \"This is string\"\n",
        "var appleCount = 24"
      ],
      "metadata": {
        "colab": {
          "base_uri": "https://localhost:8080/"
        },
        "id": "w8mLcUPVMZ-T",
        "outputId": "0d0fdca0-22cb-48d9-af11-3ff20b5cac6f"
      },
      "execution_count": 3,
      "outputs": [
        {
          "output_type": "stream",
          "name": "stdout",
          "text": [
            ""
          ]
        }
      ]
    },
    {
      "cell_type": "markdown",
      "source": [
        "## Constants are Immutable\n",
        " * Use Let keyword to define constants.\n",
        " * Once assigned their values can not be changed"
      ],
      "metadata": {
        "id": "5tgfAXLDMqM1"
      }
    },
    {
      "cell_type": "code",
      "source": [
        "let x = 23"
      ],
      "metadata": {
        "colab": {
          "base_uri": "https://localhost:8080/"
        },
        "id": "-_twgF9FMl0G",
        "outputId": "8ac2ce7c-2783-4e6f-d2a4-a565ce859fc4"
      },
      "execution_count": 4,
      "outputs": [
        {
          "output_type": "stream",
          "name": "stdout",
          "text": [
            ""
          ]
        }
      ]
    },
    {
      "cell_type": "markdown",
      "source": [
        "# Statistically Typed Data Type\n",
        "\n",
        " * To force type use static declarations\n",
        " * Syntax _var name:datatype = value_"
      ],
      "metadata": {
        "id": "vHev5iTYNoZg"
      }
    },
    {
      "cell_type": "code",
      "source": [
        "\n",
        "var x:Int = 99\n",
        "\n",
        "let t:String = \"10\"\n"
      ],
      "metadata": {
        "colab": {
          "base_uri": "https://localhost:8080/"
        },
        "id": "ejwoVId9N6Ey",
        "outputId": "74774bc0-bdb2-4086-d0d3-11130d04e0d7"
      },
      "execution_count": 13,
      "outputs": [
        {
          "output_type": "stream",
          "name": "stdout",
          "text": [
            ""
          ]
        }
      ]
    },
    {
      "cell_type": "markdown",
      "source": [
        "# Type Conversion\n",
        "\n",
        "* Wrapper Classes to conver from one Data type to another (Just look them as function for now)\n",
        "* Information is lost if converting from high precesion to low precision numbers\n",
        "\n"
      ],
      "metadata": {
        "id": "rdBmCi3NOCSh"
      }
    },
    {
      "cell_type": "code",
      "source": [
        "var x = 3.423\n",
        "type(of:x)"
      ],
      "metadata": {
        "colab": {
          "base_uri": "https://localhost:8080/"
        },
        "id": "jF7ozONLOBa5",
        "outputId": "5bdbfabc-4fb8-4578-e49e-f008c86cb553"
      },
      "execution_count": null,
      "outputs": [
        {
          "output_type": "stream",
          "name": "stdout",
          "text": [
            ""
          ]
        }
      ]
    },
    {
      "cell_type": "code",
      "source": [
        "\n",
        "print(abc)\n",
        "\n",
        "\n",
        "\n",
        "print(x)\n",
        "\n",
        "/* Rohit \n",
        "Pal ISngh\n",
        "*/\n",
        "\n",
        "//ROhit Pal Inhg\n",
        "var xy = \"\\u{661}\\u{95}\"\n",
        "print(xy)\n",
        "\n",
        "\n",
        "if x == 9{\n",
        "    print(\"x===9\")\n",
        "}\n",
        "else if xy == \"s\"{\n",
        "    print(xy)\n",
        "}\n",
        "else{\n",
        "    print(\"none\")\n",
        "}\n",
        "var s = 90\n",
        "switch s {\n",
        "    case 34:\n",
        "            print(\"Here\")\n",
        "    case 234, 41:\n",
        "        print(\"sfsaf\")\n",
        "    case 234:\n",
        "         print(\"sazfca\") \n",
        "    case 5..<12:\n",
        "          print(\"Sdfsc\")\n",
        "    default:\n",
        "     print(\"asFZc\")\n",
        "}\n",
        "var num = 0\n",
        "\n",
        "for xr in 1...45{\n",
        "    print(xr)\n",
        "}\n",
        "for xr in stride(from: 45,to: 1,by:-1){\n",
        "    print(xr)\n",
        "}\n",
        "while num<10{\n",
        "\n",
        "   num = num + 1\n",
        "}\n",
        "print(num)\n",
        "\n",
        "repeat {\n",
        "    num = num+1\n",
        "}while(num<30)\n",
        "\n",
        "print(num)\n",
        "\n",
        "func print123(){\n",
        "    print(\"Hello\")\n",
        "}\n",
        "\n",
        "print123()\n",
        "\n",
        "func add(arg1 par1:Int,arg2 par2:Int)->Int{\n",
        "\n",
        "    return par1+par2\n",
        "}\n",
        "\n",
        "print(add(arg1: 34, arg2 :32))\n",
        "\n",
        "\n",
        "\n"
      ],
      "metadata": {
        "id": "6fnIq9Qr9L5D",
        "colab": {
          "base_uri": "https://localhost:8080/"
        },
        "outputId": "bbd33cd6-6b5b-41bd-97c5-a9c8694b52ba"
      },
      "execution_count": 2,
      "outputs": [
        {
          "output_type": "stream",
          "name": "stdout",
          "text": [
            "String\r\n",
            "99\r\n",
            "١\r\n",
            "none\r\n",
            "asFZc\r\n",
            "1\r\n",
            "2\r\n",
            "3\r\n",
            "4\r\n",
            "5\r\n",
            "6\r\n",
            "7\r\n",
            "8\r\n",
            "9\r\n",
            "10\r\n",
            "11\r\n",
            "12\r\n",
            "13\r\n",
            "14\r\n",
            "15\r\n",
            "16\r\n",
            "17\r\n",
            "18\r\n",
            "19\r\n",
            "20\r\n",
            "21\r\n",
            "22\r\n",
            "23\r\n",
            "24\r\n",
            "25\r\n",
            "26\r\n",
            "27\r\n",
            "28\r\n",
            "29\r\n",
            "30\r\n",
            "31\r\n",
            "32\r\n",
            "33\r\n",
            "34\r\n",
            "35\r\n",
            "36\r\n",
            "37\r\n",
            "38\r\n",
            "39\r\n",
            "40\r\n",
            "41\r\n",
            "42\r\n",
            "43\r\n",
            "44\r\n",
            "45\r\n",
            "45\r\n",
            "44\r\n",
            "43\r\n",
            "42\r\n",
            "41\r\n",
            "40\r\n",
            "39\r\n",
            "38\r\n",
            "37\r\n",
            "36\r\n",
            "35\r\n",
            "34\r\n",
            "33\r\n",
            "32\r\n",
            "31\r\n",
            "30\r\n",
            "29\r\n",
            "28\r\n",
            "27\r\n",
            "26\r\n",
            "25\r\n",
            "24\r\n",
            "23\r\n",
            "22\r\n",
            "21\r\n",
            "20\r\n",
            "19\r\n",
            "18\r\n",
            "17\r\n",
            "16\r\n",
            "15\r\n",
            "14\r\n",
            "13\r\n",
            "12\r\n",
            "11\r\n",
            "10\r\n",
            "9\r\n",
            "8\r\n",
            "7\r\n",
            "6\r\n",
            "5\r\n",
            "4\r\n",
            "3\r\n",
            "2\r\n",
            "10\r\n",
            "30\r\n",
            "Hello\r\n",
            "66\r\n"
          ]
        }
      ]
    }
  ]
}